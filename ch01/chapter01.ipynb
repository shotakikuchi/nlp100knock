{
 "cells": [
  {
   "cell_type": "markdown",
   "metadata": {},
   "source": [
    "# 第1章: 準備運動"
   ]
  },
  {
   "cell_type": "markdown",
   "metadata": {},
   "source": [
    "## 00. 文字列の逆順\n",
    "文字列”stressed”の文字を逆に（末尾から先頭に向かって）並べた文字列を得よ．"
   ]
  },
  {
   "cell_type": "code",
   "execution_count": 1,
   "metadata": {},
   "outputs": [
    {
     "name": "stdout",
     "output_type": "stream",
     "text": [
      "desserts\n"
     ]
    }
   ],
   "source": [
    "s = 'stressed'\n",
    "print(s[::-1])"
   ]
  },
  {
   "cell_type": "markdown",
   "metadata": {},
   "source": [
    "## 01. 「パタトクカシーー」\n",
    "「パタトクカシーー」という文字列の1,3,5,7文字目を取り出して連結した文字列を得よ．"
   ]
  },
  {
   "cell_type": "code",
   "execution_count": null,
   "metadata": {},
   "outputs": [],
   "source": []
  },
  {
   "cell_type": "code",
   "execution_count": 3,
   "metadata": {},
   "outputs": [
    {
     "name": "stdout",
     "output_type": "stream",
     "text": [
      "パトカー\n",
      "パトカー\n"
     ]
    }
   ],
   "source": [
    "s = 'パタトクカシーー'\n",
    "print(s[0] + s[2] + s[4] + s[7])\n",
    "print(s[::2])"
   ]
  },
  {
   "cell_type": "markdown",
   "metadata": {},
   "source": [
    "## 02. 「パトカー」＋「タクシー」＝「パタトクカシーー」\n",
    "「パトカー」＋「タクシー」の文字を先頭から交互に連結して文字列「パタトクカシーー」を得よ．"
   ]
  },
  {
   "cell_type": "code",
   "execution_count": 5,
   "metadata": {},
   "outputs": [
    {
     "name": "stdout",
     "output_type": "stream",
     "text": [
      "パタトクカシーー\n"
     ]
    }
   ],
   "source": [
    "s1 = 'パトカー'\n",
    "s2 = 'タクシー'\n",
    "print(''.join([a + b for a, b in zip(s1, s2)]))"
   ]
  },
  {
   "cell_type": "markdown",
   "metadata": {},
   "source": [
    "## 03. 円周率\n",
    "\"Now I need a drink, alcoholic of course, after the heavy lectures involving quantum mechanics.\"という文を単語に分解し，各単語の（アルファベットの）文字数を先頭から出現順に並べたリストを作成せよ"
   ]
  },
  {
   "cell_type": "code",
   "execution_count": 15,
   "metadata": {},
   "outputs": [
    {
     "data": {
      "text/plain": [
       "[3, 1, 4, 1, 5, 9, 2, 6, 5, 3, 5, 8, 9, 7, 9]"
      ]
     },
     "execution_count": 15,
     "metadata": {},
     "output_type": "execute_result"
    }
   ],
   "source": [
    "s  = \"Now I need a drink, alcoholic of course, after the heavy lectures involving quantum mechanics.\"\n",
    "import re\n",
    "[len(re.sub('[,\\.]', '', s)) for s in s.split(' ')]"
   ]
  },
  {
   "cell_type": "markdown",
   "metadata": {},
   "source": [
    "## 04. 元素記号\n",
    "“Hi He Lied Because Boron Could Not Oxidize Fluorine. New Nations Might Also Sign Peace Security Clause. Arthur King Can.”という文を単語に分解し，1, 5, 6, 7, 8, 9, 15, 16, 19番目の単語は先頭の1文字，それ以外の単語は先頭に2文字を取り出し，取り出した文字列から単語の位置（先頭から何番目の単語か）への連想配列（辞書型もしくはマップ型）を作成せよ．"
   ]
  },
  {
   "cell_type": "code",
   "execution_count": 24,
   "metadata": {},
   "outputs": [
    {
     "name": "stdout",
     "output_type": "stream",
     "text": [
      "{'H': 0, 'He': 1, 'Li': 2, 'Be': 3, 'B': 4, 'C': 5, 'N': 6, 'O': 7, 'F': 8, 'Ne': 9, 'Na': 10, 'Mi': 11, 'Al': 12, 'Si': 13, 'P': 14, 'S': 15, 'Cl': 16, 'Ar': 17, 'K': 18, 'Ca': 19}\n"
     ]
    }
   ],
   "source": [
    "s = 'Hi He Lied Because Boron Could Not Oxidize Fluorine. New Nations Might Also Sign Peace Security Clause. Arthur King Can.'\n",
    "import re\n",
    "words = [re.sub('[,\\.]', '', s) for s in s.split(' ')]\n",
    "d = {}\n",
    "for i,w in enumerate(words):\n",
    "    index = 1\n",
    "    if i + 1 not in [1, 5, 6, 7, 8, 9, 15, 16, 19]:\n",
    "        index = 2\n",
    "    d[w[:index]] = i\n",
    "print(d)"
   ]
  },
  {
   "cell_type": "markdown",
   "metadata": {},
   "source": [
    "## 05. n-gram\n",
    "与えられたシーケンス（文字列やリストなど）からn-gramを作る関数を作成せよ．この関数を用い，”I am an NLPer”という文から単語bi-gram，文字bi-gramを得よ．"
   ]
  },
  {
   "cell_type": "code",
   "execution_count": 44,
   "metadata": {},
   "outputs": [
    {
     "data": {
      "text/plain": [
       "'abc'"
      ]
     },
     "execution_count": 44,
     "metadata": {},
     "output_type": "execute_result"
    }
   ],
   "source": [
    "re.sub('\\s', '', 'a b c')"
   ]
  },
  {
   "cell_type": "code",
   "execution_count": null,
   "metadata": {},
   "outputs": [],
   "source": [
    "'abcd'"
   ]
  },
  {
   "cell_type": "code",
   "execution_count": 5,
   "metadata": {},
   "outputs": [],
   "source": [
    "def ngram(seq, n):\n",
    "    return [seq[i:i+2] for i in range(len(seq) - 1)]"
   ]
  },
  {
   "cell_type": "code",
   "execution_count": 7,
   "metadata": {},
   "outputs": [
    {
     "data": {
      "text/plain": [
       "['ab', 'bc', 'cd']"
      ]
     },
     "execution_count": 7,
     "metadata": {},
     "output_type": "execute_result"
    }
   ],
   "source": [
    "ngram('abcd', n=2)"
   ]
  },
  {
   "cell_type": "code",
   "execution_count": 49,
   "metadata": {},
   "outputs": [
    {
     "name": "stdout",
     "output_type": "stream",
     "text": [
      "['Iam', 'aman', 'anNLPer', 'NLPer']\n",
      "['Ia', 'am', 'ma', 'an', 'nN', 'NL', 'LP', 'Pe', 'er', 'r']\n"
     ]
    }
   ],
   "source": [
    "def get_ngram(s,n=1,mode='word'):\n",
    "    \"\"\"\n",
    "    s(string)\n",
    "    n(int)\n",
    "    mode(string): mode\n",
    "    \"\"\"\n",
    "    if mode not in ['word', 'char']:\n",
    "        raise ArgumentError\n",
    "        \n",
    "    if mode == 'word':\n",
    "        s = [re.sub('[,\\.]', '', s) for s in s.split(' ')]\n",
    "    else:\n",
    "        s = re.sub('\\s', '', s)\n",
    "        \n",
    "    return [\"\".join(s[i:i+n]) for i in range(len(s))]\n",
    "\n",
    "s = 'I am an NLPer'\n",
    "\n",
    "# 単語 bi-gram\n",
    "print(get_ngram(s, n=2))\n",
    "# 文字bi-gram\n",
    "print(get_ngram(s, n=2, mode='char'))"
   ]
  },
  {
   "cell_type": "markdown",
   "metadata": {},
   "source": [
    "## 06. 集合\n",
    "“paraparaparadise”と”paragraph”に含まれる文字bi-gramの集合を，それぞれ, XとYとして求め，XとYの和集合，積集合，差集合を求めよ．さらに，’se’というbi-gramがXおよびYに含まれるかどうかを調べよ．"
   ]
  },
  {
   "cell_type": "code",
   "execution_count": 50,
   "metadata": {},
   "outputs": [],
   "source": [
    "s1 = \"paraparaparadise\"\n",
    "s2 =  \"paragraph\""
   ]
  },
  {
   "cell_type": "code",
   "execution_count": 61,
   "metadata": {},
   "outputs": [],
   "source": [
    "X = set(get_ngram(s1, n=2, mode='char'))\n",
    "Y = set(get_ngram(s2, n=2, mode='char'))"
   ]
  },
  {
   "cell_type": "code",
   "execution_count": 69,
   "metadata": {},
   "outputs": [
    {
     "name": "stdout",
     "output_type": "stream",
     "text": [
      "{'ad', 'ag', 'se', 'ap', 'e', 'ar', 'ra', 'di', 'is', 'gr', 'h', 'ph', 'pa'}\n",
      "{'ap', 'ar', 'ra', 'pa'}\n",
      "{'ad', 'se', 'e', 'di', 'is'}\n",
      "Is X include 'se': True\n",
      "Is X include 'se': False\n"
     ]
    }
   ],
   "source": [
    "# 和集合\n",
    "print(X | Y)\n",
    "# 積集合\n",
    "print(X & Y)\n",
    "# 差集合\n",
    "print(X - Y)\n",
    "print(f\"Is X include 'se': {'se' in X}\")\n",
    "print(f\"Is X include 'se': {'se' in Y}\")"
   ]
  },
  {
   "cell_type": "markdown",
   "metadata": {},
   "source": [
    "## 07. テンプレートによる文生成Permalink\n",
    "引数x, y, zを受け取り「x時のyはz」という文字列を返す関数を実装せよ．さらに，x=12, y=”気温”, z=22.4として，実行結果を確認せよ"
   ]
  },
  {
   "cell_type": "code",
   "execution_count": 73,
   "metadata": {},
   "outputs": [],
   "source": [
    "def gen_text(x,y,z):\n",
    "    return f'{x}時の{y}は{z}'"
   ]
  },
  {
   "cell_type": "code",
   "execution_count": 74,
   "metadata": {},
   "outputs": [
    {
     "data": {
      "text/plain": [
       "'12時の気温は22.4'"
      ]
     },
     "execution_count": 74,
     "metadata": {},
     "output_type": "execute_result"
    }
   ],
   "source": [
    "gen_text(x=12, y='気温', z=22.4)"
   ]
  },
  {
   "cell_type": "markdown",
   "metadata": {},
   "source": [
    "## 08. 暗号文\n",
    "与えられた文字列の各文字を，以下の仕様で変換する関数cipherを実装せよ．\n",
    "\n",
    "英小文字ならば(219 - 文字コード)の文字に置換\n",
    "その他の文字はそのまま出力\n",
    "この関数を用い，英語のメッセージを暗号化・復号化せよ"
   ]
  },
  {
   "cell_type": "code",
   "execution_count": null,
   "metadata": {},
   "outputs": [],
   "source": [
    "def cipher(text):\n",
    "    "
   ]
  },
  {
   "cell_type": "code",
   "execution_count": 8,
   "metadata": {},
   "outputs": [
    {
     "data": {
      "text/plain": [
       "'zyCwvD'"
      ]
     },
     "execution_count": 8,
     "metadata": {},
     "output_type": "execute_result"
    }
   ],
   "source": [
    "text = 'abCdeD'\n",
    "\"\".join([chr(219-ord(c)) if c.islower() else c for c in text])"
   ]
  },
  {
   "cell_type": "code",
   "execution_count": 98,
   "metadata": {},
   "outputs": [],
   "source": [
    "def is_lower_alpha(word):\n",
    "    return re.match(r'^[a-z]+$', word) is not None\n",
    "\n",
    "def cipher(text):\n",
    "    buf = []\n",
    "    for s in text:\n",
    "        if is_lower_alpha(s):\n",
    "            s = chr(219 - ord(s))\n",
    "        buf.append(s)\n",
    "    return \"\".join(buf)"
   ]
  },
  {
   "cell_type": "markdown",
   "metadata": {},
   "source": [
    "## 09. Typoglycemia\n",
    "スペースで区切られた単語列に対して，各単語の先頭と末尾の文字は残し，それ以外の文字の順序をランダムに並び替えるプログラムを作成せよ．ただし，\n",
    "長さが４以下の単語は並び替えないこととする．\n",
    "\n",
    "適当な英語の文（例えば”I couldn’t believe that I could actually understand what I was reading : the phenomenal power of the human mind .”）を与え，その実行結果を確認せよ．"
   ]
  },
  {
   "cell_type": "code",
   "execution_count": 13,
   "metadata": {},
   "outputs": [],
   "source": [
    "text = 'I couldn’t believe that I could actually understand what I was reading : the phenomenal power of the human mind .'"
   ]
  },
  {
   "cell_type": "code",
   "execution_count": 14,
   "metadata": {},
   "outputs": [
    {
     "data": {
      "text/plain": [
       "['I',\n",
       " 'cdln’out',\n",
       " 'bvieele',\n",
       " 'that',\n",
       " 'I',\n",
       " 'cloud',\n",
       " 'aaclulty',\n",
       " 'undnerastd',\n",
       " 'what',\n",
       " 'I',\n",
       " 'was',\n",
       " 'rdeanig',\n",
       " ':',\n",
       " 'the',\n",
       " 'poeehnanml',\n",
       " 'pwoer',\n",
       " 'of',\n",
       " 'the',\n",
       " 'huamn',\n",
       " 'mind',\n",
       " '.']"
      ]
     },
     "execution_count": 14,
     "metadata": {},
     "output_type": "execute_result"
    }
   ],
   "source": [
    "# text = 'aaaaa bbb ccccc eeeee'\n",
    "import random\n",
    "[w[0] + \"\".join(random.sample(w[1:-1], len(w[1:-1]))) + w[-1] if len(w) > 4 else w for w in text.split(' ')]"
   ]
  },
  {
   "cell_type": "code",
   "execution_count": 265,
   "metadata": {},
   "outputs": [
    {
     "data": {
      "text/plain": [
       "'I phenomenal actually that I reading could human what I was power : the couldn’t understand of the believe mind .'"
      ]
     },
     "execution_count": 265,
     "metadata": {},
     "output_type": "execute_result"
    }
   ],
   "source": [
    "def is_under_length(s, l=4):\n",
    "    if len(s) <= l:\n",
    "        return True\n",
    "    return False\n",
    "\n",
    "def shuffle(text):\n",
    "    text_split = text.split(' ')\n",
    "    fixed_index = [i+1 for i,s in enumerate(text_split[1:-1]) if is_under_length(s)] + [0, len(text_split)-1]\n",
    "    variable_index = list(set(range(1,len(text_split)-1)) - set(fixed_index))\n",
    "    random.shuffle(variable_index)\n",
    "\n",
    "    buf = []\n",
    "    for i,s in enumerate(text_split):\n",
    "        if i in fixed_index:\n",
    "            buf.append(s)\n",
    "        else:\n",
    "            buf.append(text_split[variable_index.pop(0)])\n",
    "    return \" \".join(buf)\n",
    "\n",
    "shuffle(text)"
   ]
  },
  {
   "cell_type": "code",
   "execution_count": 213,
   "metadata": {},
   "outputs": [
    {
     "data": {
      "text/plain": [
       "[2, 1, 6, 7, 5]"
      ]
     },
     "execution_count": 213,
     "metadata": {},
     "output_type": "execute_result"
    }
   ],
   "source": []
  }
 ],
 "metadata": {
  "kernelspec": {
   "display_name": "Python 3",
   "language": "python",
   "name": "python3"
  },
  "language_info": {
   "codemirror_mode": {
    "name": "ipython",
    "version": 3
   },
   "file_extension": ".py",
   "mimetype": "text/x-python",
   "name": "python",
   "nbconvert_exporter": "python",
   "pygments_lexer": "ipython3",
   "version": "3.6.8"
  }
 },
 "nbformat": 4,
 "nbformat_minor": 2
}
